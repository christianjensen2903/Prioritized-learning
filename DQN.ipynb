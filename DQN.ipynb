{
 "cells": [
  {
   "cell_type": "code",
   "execution_count": 1,
   "metadata": {},
   "outputs": [],
   "source": [
    "import gym\n",
    "\n",
    "from tqdm.notebook import tqdm  # Progress bar\n",
    "\n",
    "import numpy as np\n",
    "import matplotlib.pyplot as plt\n",
    "from collections import deque\n",
    "\n",
    "import torch\n",
    "import torch.nn as nn\n",
    "import torch.optim as optim\n",
    "import torch.nn.functional as F\n",
    "import torchvision.transforms as T"
   ]
  },
  {
   "cell_type": "code",
   "execution_count": 2,
   "metadata": {},
   "outputs": [],
   "source": [
    "# Memory class to store the previous experiences\n",
    "class Memory():\n",
    "    def __init__(self, max_size = 1000):\n",
    "        self.buffer = deque(maxlen=max_size)\n",
    "\n",
    "    def add(self, experience):\n",
    "        self.buffer.append(experience)\n",
    "\n",
    "    def sample(self, batch_size):\n",
    "        idx = np.random.choice(np.arange(len(self.buffer)), size=batch_size, replace=False)\n",
    "        return [self.buffer[ii] for ii in idx]"
   ]
  },
  {
   "cell_type": "code",
   "execution_count": 3,
   "metadata": {},
   "outputs": [],
   "source": [
    "# Create the Cart-Pole game environment\n",
    "env = gym.make('CartPole-v1')\n",
    "action_size = 2\n",
    "state_size = 4"
   ]
  },
  {
   "cell_type": "code",
   "execution_count": 4,
   "metadata": {},
   "outputs": [],
   "source": [
    "pretrain_length = batch_size = 100\n",
    "memory_size = 10000\n",
    "\n",
    "# Initialize the simulation\n",
    "env.reset()\n",
    "# Take one random step to get the pole and cart moving\n",
    "state, reward, done, _ = env.step(env.action_space.sample())\n",
    "memory = Memory(max_size=memory_size)\n",
    "# Make a bunch of random actions and store the experiences\n",
    "for _ in range(pretrain_length): # Do a random action\n",
    "    action = env.action_space.sample()\n",
    "    next_state, reward, done, _ = env.step(action)\n",
    "    if done:\n",
    "        # Simulation fails, so no next state\n",
    "        # next_state = np.zeros(state.shape)\n",
    "\n",
    "        # Add experience to memory\n",
    "        memory.add((state, action, reward, next_state))\n",
    "        # Start new episode\n",
    "        env.reset()\n",
    "        # Take one random step to get the pole and cart moving\n",
    "        state, reward, done, _ = env.step(env.action_space.sample())\n",
    "    else:\n",
    "        # Add experience to memory\n",
    "        memory.add((state, action, reward, next_state))\n",
    "        state = next_state"
   ]
  },
  {
   "cell_type": "code",
   "execution_count": 5,
   "metadata": {},
   "outputs": [],
   "source": [
    "def get_epsilon(t, e_min=0.005, e_max=1, alpha=0.001):\n",
    "    return e_min + (e_max - e_min) * np.exp(-alpha * t)"
   ]
  },
  {
   "cell_type": "code",
   "execution_count": 6,
   "metadata": {},
   "outputs": [],
   "source": [
    "class Net(nn.Module):\n",
    "    def __init__(self, state_size, action_size, hidden_dim=64, lr=0.0001):\n",
    "        super(Net, self).__init__()\n",
    "        self.linear = nn.Sequential(\n",
    "            nn.Linear(state_size, hidden_dim),\n",
    "            nn.ReLU(),\n",
    "            nn.Linear(hidden_dim, hidden_dim),\n",
    "            nn.ReLU(),\n",
    "            nn.Linear(hidden_dim, hidden_dim),\n",
    "            nn.ReLU(),\n",
    "            nn.Linear(hidden_dim, action_size)\n",
    "        )\n",
    "        self.optimizer = optim.Adam(self.linear.parameters(), lr, eps=0.01)\n",
    "        self.criterion = nn.MSELoss()\n",
    "\n",
    "    def update(self, output, target):\n",
    "        loss = self.criterion(output, target)\n",
    "        self.optimizer.zero_grad()\n",
    "        loss.backward()\n",
    "        self.optimizer.step()\n",
    "        return loss.item()\n",
    "\n",
    "    def forward(self, states):\n",
    "        return self.linear(torch.Tensor(states))\n"
   ]
  },
  {
   "cell_type": "code",
   "execution_count": 263,
   "metadata": {},
   "outputs": [],
   "source": [
    "net = Net(state_size, action_size)\n",
    "\n",
    "num_episodes = 400\n",
    "discount = 0.99\n",
    "max_t = 200\n",
    "\n",
    "total_reward_list = []\n",
    "\n",
    "t = 0\n",
    "\n",
    "for episode in range(num_episodes):\n",
    "    total_reward = 0\n",
    "    done = False\n",
    "    state = env.reset()\n",
    "    \n",
    "    while not done:\n",
    "\n",
    "        t += 1\n",
    "\n",
    "        # Choose an action based on epsilon-greedy\n",
    "        if np.random.random() < get_epsilon(t):\n",
    "            action = env.action_space.sample()\n",
    "        else:\n",
    "            q_values = net(torch.from_numpy(state))\n",
    "            action = torch.argmax(q_values).item()\n",
    "\n",
    "        # Take the action and observe the reward and next state\n",
    "        next_state, reward, done, _ = env.step(action)\n",
    "        total_reward += reward\n",
    "\n",
    "        # Add experience to memory. If the episode is over, there is no next state\n",
    "        if done:\n",
    "            next_state = np.zeros(state.shape)\n",
    "        memory.add((state, action, reward, next_state))\n",
    "\n",
    "        # Sample a mini batch from memory\n",
    "        batch = memory.sample(batch_size)\n",
    "        states, actions, rewards, next_states = map(np.array, zip(*batch))\n",
    "\n",
    "        # Compute the targets. If the episode is over, the target is the reward\n",
    "        Q_targets = net.forward(states).detach()\n",
    "        Q_next, _ = torch.max(net.forward(next_states).detach(), axis=1)\n",
    "        for i in range(batch_size):\n",
    "            if not next_states[i].any():\n",
    "                Q_targets[i, actions[i]] = rewards[i]\n",
    "            else:\n",
    "                Q_targets[i, actions[i]] = rewards[i] + discount * Q_next[i]\n",
    "        \n",
    "        # Update the network\n",
    "        output = net.forward(states)\n",
    "        net.update(output, Q_targets)\n",
    "\n",
    "        # Update the state\n",
    "        state = next_state\n",
    "\n",
    "        # Stop if the number of iterations is greater than the allowed number\n",
    "        if i > max_t:\n",
    "            done = True\n",
    "\n",
    "    total_reward_list.append((episode, total_reward))\n"
   ]
  },
  {
   "cell_type": "code",
   "execution_count": 264,
   "metadata": {},
   "outputs": [
    {
     "data": {
      "image/png": "[encoded data removed]",
      "text/plain": [
       "<Figure size 432x288 with 1 Axes>"
      ]
     },
     "metadata": {
      "needs_background": "light"
     },
     "output_type": "display_data"
    }
   ],
   "source": [
    "# Moving average for smoothing plot\n",
    "def running_mean(x, N):\n",
    "    cumsum = np.cumsum(np.insert(x, 0, x[0]*np.ones(N)))\n",
    "    return (cumsum[N:] - cumsum[:-N]) / N\n",
    "\n",
    "eps, rews = np.array(total_reward_list).T\n",
    "smoothed_rews = running_mean(rews, 10)\n",
    "plt.plot(eps, smoothed_rews)\n",
    "plt.plot(eps, rews, color='grey', alpha=0.3)\n",
    "plt.xlabel('Episode')\n",
    "plt.ylabel('Accumulated Reward')\n",
    "plt.savefig('DQN.png')"
   ]
  }
 ],
 "metadata": {
  "interpreter": {
   "hash": "b0fa6594d8f4cbf19f97940f81e996739fb7646882a419484c72d19e05852a7e"
  },
  "kernelspec": {
   "display_name": "Python 3.9.10 64-bit",
   "language": "python",
   "name": "python3"
  },
  "language_info": {
   "codemirror_mode": {
    "name": "ipython",
    "version": 3
   },
   "file_extension": ".py",
   "mimetype": "text/x-python",
   "name": "python",
   "nbconvert_exporter": "python",
   "pygments_lexer": "ipython3",
   "version": "3.9.10"
  },
  "orig_nbformat": 4
 },
 "nbformat": 4,
 "nbformat_minor": 2
}
